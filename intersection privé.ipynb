{
 "cells": [
  {
   "cell_type": "code",
   "execution_count": 1,
   "id": "db532d82",
   "metadata": {},
   "outputs": [],
   "source": [
    "import numpy as np"
   ]
  },
  {
   "cell_type": "code",
   "execution_count": 2,
   "id": "ef508fa8",
   "metadata": {},
   "outputs": [],
   "source": [
    "def string_to_np_array(input_string):\n",
    "    mapping = {' ': 0, 'a': 1, 'b': 2, 'c': 3, 'd': 4, 'e': 5, 'f': 6, 'g': 7, 'h': 8, 'i': 9, 'j': 10,\n",
    "               'k': 11, 'l': 12, 'm': 13, 'n': 14, 'o': 15, 'p': 16, 'q': 17, 'r': 18, 's': 19, 't': 20,\n",
    "               'u': 21, 'v': 22, 'w': 23, 'x': 24, 'y': 25, 'z': 26}\n",
    "    \n",
    "    np_array = np.array([mapping[char] for char in input_string.lower()])\n",
    "    return np_array\n",
    "def zero_pad_array(arr):\n",
    "    if len(arr) >= 20:\n",
    "        return arr[:20]\n",
    "    else:\n",
    "        padding_length = 20 - len(arr)\n",
    "        padding = np.zeros(padding_length, dtype=int)\n",
    "        padded_array = np.concatenate((arr, padding))\n",
    "        return padded_array\n",
    "def code(ini):\n",
    "    arr = np.array([2,1,4,5,2,1,9,3,5,7,5,3,8,4,7,4,1,5,3,5])\n",
    "    rep = zero_pad_array(string_to_np_array(ini))@arr\n",
    "    if rep == 333:\n",
    "        print(\"exact\")\n",
    "    else:\n",
    "        if rep ==193:\n",
    "            print(\"la meilleur réponse n'est pas toujours la meilleur\")\n",
    "        else:\n",
    "            print(\"non\")"
   ]
  },
  {
   "cell_type": "code",
   "execution_count": 4,
   "id": "89c67da1",
   "metadata": {},
   "outputs": [
    {
     "name": "stdout",
     "output_type": "stream",
     "text": [
      "non\n"
     ]
    }
   ],
   "source": [
    "a = code(\"\")"
   ]
  },
  {
   "cell_type": "code",
   "execution_count": null,
   "id": "c1b3ea79",
   "metadata": {},
   "outputs": [],
   "source": [
    "\"\""
   ]
  }
 ],
 "metadata": {
  "kernelspec": {
   "display_name": "Python 3 (ipykernel)",
   "language": "python",
   "name": "python3"
  },
  "language_info": {
   "codemirror_mode": {
    "name": "ipython",
    "version": 3
   },
   "file_extension": ".py",
   "mimetype": "text/x-python",
   "name": "python",
   "nbconvert_exporter": "python",
   "pygments_lexer": "ipython3",
   "version": "3.9.7"
  }
 },
 "nbformat": 4,
 "nbformat_minor": 5
}
