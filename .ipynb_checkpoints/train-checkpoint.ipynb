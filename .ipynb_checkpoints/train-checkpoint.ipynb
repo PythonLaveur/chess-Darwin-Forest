{
 "cells": [
  {
   "cell_type": "code",
   "execution_count": 1,
   "id": "68cf0fc9",
   "metadata": {},
   "outputs": [],
   "source": [
    "import numpy as np\n",
    "import chess\n",
    "import math\n",
    "import random\n",
    "import numpy as np\n",
    "import chess.polyglot"
   ]
  },
  {
   "cell_type": "code",
   "execution_count": 2,
   "id": "6b1bafbc",
   "metadata": {},
   "outputs": [],
   "source": [
    "def play_n(BOARD,n, black, white):\n",
    "     for k in range(n):\n",
    "        if BOARD.turn:\n",
    "            BOARD.push(best_move(b, white))\n",
    "        else:\n",
    "            BOARD.push(best_move(b, black))\n",
    "        if BOARD.outcome() != None:\n",
    "            return(board, eval_board(board))\n",
    "    return(board, eval_board(board))"
   ]
  },
  {
   "cell_type": "code",
   "execution_count": null,
   "id": "c49d4e76",
   "metadata": {},
   "outputs": [],
   "source": [
    "def board_to_tensor(board):\n",
    "    tensor = np.zeros((1,6, 8, 8), dtype=np.float32)\n",
    "    values = [1000, 9, 3, 3, 5, 1]\n",
    "    piece_map = board.piece_map()\n",
    "    for square, piece in piece_map.items():\n",
    "        layer = 0\n",
    "        if piece.piece_type == chess.KING:\n",
    "            layer = 0\n",
    "        elif piece.piece_type == chess.QUEEN:\n",
    "            layer = 1\n",
    "        elif piece.piece_type == chess.BISHOP:\n",
    "            layer = 2\n",
    "        elif piece.piece_type == chess.KNIGHT:\n",
    "            layer = 3\n",
    "        elif piece.piece_type == chess.ROOK:\n",
    "            layer = 4\n",
    "        elif piece.piece_type == chess.PAWN:\n",
    "            layer = 5\n",
    "\n",
    "        sign = -1 if piece.color == chess.WHITE else 1\n",
    "        tensor[0,layer, chess.square_rank(square), chess.square_file(square)] = sign*values[layer]\n",
    "\n",
    "    return tf.convert_to_tensor(tensor, dtype=tf.float32)"
   ]
  },
  {
   "cell_type": "code",
   "execution_count": null,
   "id": "97356f41",
   "metadata": {},
   "outputs": [],
   "source": [
    "scoring= {'p': -1,\n",
    "          'n': -3,\n",
    "          'b': -3,\n",
    "          'r': -5,\n",
    "          'q': -9,\n",
    "          'k': -20,\n",
    "          'P': 1,\n",
    "          'N': 3,\n",
    "          'B': 3,\n",
    "          'R': 5,\n",
    "          'Q': 9,\n",
    "          'K': 20,\n",
    "          }\n",
    "def eval_space(BOARD):\n",
    "    no_moves = len(list(BOARD.legal_moves))\n",
    "    value = (no_moves/(20+no_moves))    \n",
    "    if BOARD.turn == True:\n",
    "        return value\n",
    "    else:\n",
    "        return -value\n",
    "def eval_board(BOARD):\n",
    "    #will be replaced by a deep network\n",
    "    tensor = board_to_tensor(BOARD)\n",
    "    score = 0\n",
    "    pieces = BOARD.piece_map()\n",
    "    if BOARD.is_checkmate() and BOARD.turn == True:\n",
    "        return(1000)\n",
    "    if BOARD.is_checkmate() and BOARD.turn == False:\n",
    "        return(-1000)\n",
    "    if BOARD.is_stalemate():\n",
    "        return(0)\n",
    "    if BOARD.is_insufficient_material():\n",
    "        return(0)\n",
    "    if BOARD.has_insufficient_material(BOARD.turn):\n",
    "        return(-1000)\n",
    "    if BOARD.has_insufficient_material(BOARD.turn == False):\n",
    "        return(1000)\n",
    "    for key in pieces:\n",
    "        score += scoring[str(pieces[key])]\n",
    "    score += eval_space(BOARD)\n",
    "    return score\n"
   ]
  },
  {
   "cell_type": "code",
   "execution_count": null,
   "id": "84bf21c8",
   "metadata": {},
   "outputs": [],
   "source": [
    "class ChessValueNet(torch.nn.Module):\n",
    "    def __init__(self):\n",
    "        super(LeNet, self).__init__()\n",
    "        self.C1 = torch.nn.Conv2d(6, 6, 5, padding=0)\n",
    "        self.C2 = torch.nn.Conv2d(6, 16, 3, padding=1)\n",
    "        self.C3 = torch.nn.Conv2d(16, 128, 4, padding=0)\n",
    "        self.F1 = torch.nn.Linear(128, 64)\n",
    "        self.OUT = torch.nn.Linear(64, 1)\n",
    "        self.LR = torch.nn.LeakyReLU(negative_slope=0.1)\n",
    "\n",
    "    def forward(self, x):\n",
    "        x = self.C1(x)\n",
    "        x = self.LR(x)\n",
    "        x = self.C2(x)\n",
    "        x = self.LR(x)\n",
    "        x = self.C3(x)\n",
    "        x = self.LR(x)\n",
    "        x = x.view(x.shape[0], -1)  # flatten the feature maps into a long vector\n",
    "        x = self.F1(x)\n",
    "        x = self.LR(x)\n",
    "        x = self.OUT(x)\n",
    "        return x\n",
    "def mutation(model, epsilon):\n",
    "    for param in model.parameters():\n",
    "        if param.requires_grad:\n",
    "            param.data *= (1.0 + epsilon * torch.randn(param.data.size()))"
   ]
  },
  {
   "cell_type": "code",
   "execution_count": null,
   "id": "50293a17",
   "metadata": {},
   "outputs": [],
   "source": [
    "def best_move(b, net):\n",
    "    Moves = list(b.legal_moves)\n",
    "    \n",
    "    if len(Moves) ==0:\n",
    "        return(chess.Move.null())\n",
    "    Moves = random.sample(Moves, len(Moves))\n",
    "    values = []\n",
    "        for k in range(len(Moves)):\n",
    "            copy = b.copy()\n",
    "            copy.push(Moves[k])\n",
    "            values.append(net(board_to_tensor(copy)))\n",
    "        return(Moves[values.argmax())"
   ]
  },
  {
   "cell_type": "code",
   "execution_count": null,
   "id": "31ca7576",
   "metadata": {},
   "outputs": [],
   "source": [
    "def clone(net, board, epsilon, N):\n",
    "    nets = []\n",
    "    for k in range(N):\n",
    "        new_net = mutation(net.copy(), epsilon)\n",
    "        nets.append([new_net, board.copy(), 0])\n",
    "    return(nets)"
   ]
  },
  {
   "cell_type": "code",
   "execution_count": null,
   "id": "255eb7d5",
   "metadata": {},
   "outputs": [],
   "source": [
    "def train(net, epochs, N, epsilon, depth):\n",
    "    board = chess.Board()\n",
    "    nets = clone(net, board, epsilon, N)\n",
    "    n_game = 0 \n",
    "    \n",
    "    for e in range(epochs):\n",
    "        nets = random.sample(new_nets, N)\n",
    "        black = nets.pop(0)\n",
    "        for k in range(N):        \n",
    "            nets[k][1], nets[k][2] = play_n(nets[k][1], depth, black, nets[k][0])\n",
    "            #sort nets\n",
    "        nets = nets[:3]\n",
    "        if nets[0][1].outcome() == None: \n",
    "            board = nets[0][1]\n",
    "        else:\n",
    "            board = chess.Board()\n",
    "            n_game +=1\n",
    "            print(str(n_game) + \" games played\")\n",
    "        new_nets = []\n",
    "        length = [(N-1)//3, (N-1)//3, (N-1)-2*((N-1)//3)]\n",
    "        for k in range(3):\n",
    "            new_nets += clone(nets[k], board, epsilon, length[k])\n",
    "        black[1] = board\n",
    "        nets += black   \n",
    "    return(nets[0][0], n_game*(N-1))\n",
    "    \n",
    "        \n",
    "        "
   ]
  },
  {
   "cell_type": "code",
   "execution_count": null,
   "id": "c07964b7",
   "metadata": {},
   "outputs": [],
   "source": [
    "net = \n",
    "epochs = 1000\n",
    "N = 10\n",
    "epsilon = 0.05\n",
    "depth = 11"
   ]
  },
  {
   "cell_type": "code",
   "execution_count": null,
   "id": "560e20fe",
   "metadata": {},
   "outputs": [],
   "source": [
    "\n",
    "best_net, n_game = train(net, epochs, N, epsilon, depth)"
   ]
  },
  {
   "cell_type": "code",
   "execution_count": null,
   "id": "323e0a8b",
   "metadata": {},
   "outputs": [],
   "source": [
    "def save(net,n_game):\n",
    "    password = \"train\"\n",
    "    if password !=\"train\":\n",
    "        print(\"wrong password\")\n",
    "        return(0)\n",
    "    torch.save(net.state_dict(), \"C:\\Users\\xiaji\\école d'ing 2A\\Chess AI\\trained_net \" + str(n_game))\n",
    "    print('model saved')"
   ]
  },
  {
   "cell_type": "code",
   "execution_count": null,
   "id": "ab460d99",
   "metadata": {},
   "outputs": [],
   "source": [
    "save(best_net)"
   ]
  }
 ],
 "metadata": {
  "kernelspec": {
   "display_name": "Python 3 (ipykernel)",
   "language": "python",
   "name": "python3"
  },
  "language_info": {
   "codemirror_mode": {
    "name": "ipython",
    "version": 3
   },
   "file_extension": ".py",
   "mimetype": "text/x-python",
   "name": "python",
   "nbconvert_exporter": "python",
   "pygments_lexer": "ipython3",
   "version": "3.9.7"
  }
 },
 "nbformat": 4,
 "nbformat_minor": 5
}
